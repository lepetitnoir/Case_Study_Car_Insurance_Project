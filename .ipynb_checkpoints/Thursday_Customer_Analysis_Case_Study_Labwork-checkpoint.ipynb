{
 "cells": [
  {
   "cell_type": "markdown",
   "id": "433e69de",
   "metadata": {},
   "source": [
    "### Activity 4 (Thursday)\n",
    "\n",
    "- Show a plot of the total number of responses.\n",
    "- Show a plot of the response by the sales channel.\n",
    "- Show a plot of the response by the total claim amount.\n",
    "- Show a plot of the response by income.\n",
    "- (Optional) Don't limit your creativity!  plot any interesting findings/insights that describe some interesting facts about your data set and its variables.\n",
    "- Plot the Correlation Heatmap.\n",
    "- Clean your notebook and make it a readible and presentable with a good documentation that summarizes the Data Cleaning, Exploration(including plots) Steps that you have performed."
   ]
  },
  {
   "cell_type": "code",
   "execution_count": null,
   "id": "ac553908",
   "metadata": {},
   "outputs": [],
   "source": []
  }
 ],
 "metadata": {
  "kernelspec": {
   "display_name": "Python 3 (ipykernel)",
   "language": "python",
   "name": "python3"
  },
  "language_info": {
   "codemirror_mode": {
    "name": "ipython",
    "version": 3
   },
   "file_extension": ".py",
   "mimetype": "text/x-python",
   "name": "python",
   "nbconvert_exporter": "python",
   "pygments_lexer": "ipython3",
   "version": "3.9.12"
  }
 },
 "nbformat": 4,
 "nbformat_minor": 5
}
